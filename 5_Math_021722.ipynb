{
  "nbformat": 4,
  "nbformat_minor": 0,
  "metadata": {
    "colab": {
      "name": "5_Math_021722.ipynb",
      "provenance": [],
      "collapsed_sections": [],
      "authorship_tag": "ABX9TyPIKF1As/lCqX3IfUbJx69B",
      "include_colab_link": true
    },
    "kernelspec": {
      "name": "python3",
      "display_name": "Python 3"
    },
    "language_info": {
      "name": "python"
    }
  },
  "cells": [
    {
      "cell_type": "markdown",
      "metadata": {
        "id": "view-in-github",
        "colab_type": "text"
      },
      "source": [
        "<a href=\"https://colab.research.google.com/github/stswee/5_math_tutoring/blob/main/5_Math_021722.ipynb\" target=\"_parent\"><img src=\"https://colab.research.google.com/assets/colab-badge.svg\" alt=\"Open In Colab\"/></a>"
      ]
    },
    {
      "cell_type": "markdown",
      "source": [
        "Functions"
      ],
      "metadata": {
        "id": "a4CKXK1ofhJd"
      }
    },
    {
      "cell_type": "code",
      "execution_count": null,
      "metadata": {
        "id": "jp_B-Tr8fZKa"
      },
      "outputs": [],
      "source": [
        "# Load in libraries\n",
        "import numpy as np\n",
        "import matplotlib.pyplot as plt"
      ]
    },
    {
      "cell_type": "code",
      "source": [
        "# Function: f(x) = y = 3x + 7\n",
        "x = np.array([12, 0, -3])\n",
        "print(x)\n",
        "y = 3 * x + 7\n",
        "print(y)"
      ],
      "metadata": {
        "colab": {
          "base_uri": "https://localhost:8080/"
        },
        "id": "t82jLbs-fu9c",
        "outputId": "fbc11028-88de-448e-c7f6-56409491682f"
      },
      "execution_count": null,
      "outputs": [
        {
          "output_type": "stream",
          "name": "stdout",
          "text": [
            "[12  0 -3]\n",
            "[43  7 -2]\n"
          ]
        }
      ]
    },
    {
      "cell_type": "code",
      "source": [
        "# Plotting functions\n",
        "plt.scatter(x, y) # Plots points\n",
        "plt.plot(x,y) # Plots line\n",
        "plt.xlabel(\"Values of x\")\n",
        "plt.ylabel(\"Values of y\")"
      ],
      "metadata": {
        "colab": {
          "base_uri": "https://localhost:8080/",
          "height": 296
        },
        "id": "zn8ZdMZJgMGj",
        "outputId": "5c9543c3-da13-448e-a39e-14b4fb2286d5"
      },
      "execution_count": null,
      "outputs": [
        {
          "output_type": "execute_result",
          "data": {
            "text/plain": [
              "Text(0, 0.5, 'Values of y')"
            ]
          },
          "metadata": {},
          "execution_count": 18
        },
        {
          "output_type": "display_data",
          "data": {
            "image/png": "[encoded data removed]",
            "text/plain": [
              "<Figure size 432x288 with 1 Axes>"
            ]
          },
          "metadata": {
            "needs_background": "light"
          }
        }
      ]
    },
    {
      "cell_type": "markdown",
      "source": [
        "Unit Conversions"
      ],
      "metadata": {
        "id": "k6DgBmsyh5v5"
      }
    },
    {
      "cell_type": "code",
      "source": [
        "# Test case: 36 cm ~ 14.173 in\n",
        "measurements = np.array([36, 73, 84, 62, 101, 55]) # cm\n",
        "new_measurements = measurements / 2.54 # in\n",
        "print(new_measurements)\n",
        "\n",
        "# Plotting\n",
        "plt.scatter(measurements, new_measurements)\n",
        "plt.plot(measurements, new_measurements)\n",
        "plt.xlabel(\"Measurements in centimeters\")\n",
        "plt.ylabel(\"Measurements in inches\")\n"
      ],
      "metadata": {
        "colab": {
          "base_uri": "https://localhost:8080/",
          "height": 314
        },
        "id": "0EiAM6Pbh7Gp",
        "outputId": "3dd4b2a7-f87c-4a61-d510-da309577c788"
      },
      "execution_count": null,
      "outputs": [
        {
          "output_type": "stream",
          "name": "stdout",
          "text": [
            "[14.17322835 28.74015748 33.07086614 24.40944882 39.76377953 21.65354331]\n"
          ]
        },
        {
          "output_type": "execute_result",
          "data": {
            "text/plain": [
              "Text(0, 0.5, 'Measurements in inches')"
            ]
          },
          "metadata": {},
          "execution_count": 15
        },
        {
          "output_type": "display_data",
          "data": {
            "image/png": "[encoded data removed]",
            "text/plain": [
              "<Figure size 432x288 with 1 Axes>"
            ]
          },
          "metadata": {
            "needs_background": "light"
          }
        }
      ]
    },
    {
      "cell_type": "markdown",
      "source": [
        "Preview: Plotting Histograms"
      ],
      "metadata": {
        "id": "NGdHjCVfilE6"
      }
    },
    {
      "cell_type": "code",
      "source": [
        "data = np.random.randint(100, size = 100)\n",
        "plt.hist(data)"
      ],
      "metadata": {
        "colab": {
          "base_uri": "https://localhost:8080/",
          "height": 317
        },
        "id": "uET9wWnSipW7",
        "outputId": "3dcffe5a-f999-4abb-c475-1d5816d163bd"
      },
      "execution_count": null,
      "outputs": [
        {
          "output_type": "execute_result",
          "data": {
            "text/plain": [
              "(array([ 6., 15., 16., 13., 14.,  7.,  4.,  7., 10.,  8.]),\n",
              " array([ 0. ,  9.8, 19.6, 29.4, 39.2, 49. , 58.8, 68.6, 78.4, 88.2, 98. ]),\n",
              " <a list of 10 Patch objects>)"
            ]
          },
          "metadata": {},
          "execution_count": 17
        },
        {
          "output_type": "display_data",
          "data": {
            "image/png": "[encoded data removed]",
            "text/plain": [
              "<Figure size 432x288 with 1 Axes>"
            ]
          },
          "metadata": {
            "needs_background": "light"
          }
        }
      ]
    }
  ]
}