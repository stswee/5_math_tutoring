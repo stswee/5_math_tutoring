{
  "cells": [
    {
      "cell_type": "markdown",
      "metadata": {
        "id": "view-in-github",
        "colab_type": "text"
      },
      "source": [
        "<a href=\"https://colab.research.google.com/github/stswee/5_math_tutoring/blob/main/5_Math_021022_Homework_Solutions.ipynb\" target=\"_parent\"><img src=\"https://colab.research.google.com/assets/colab-badge.svg\" alt=\"Open In Colab\"/></a>"
      ]
    },
    {
      "cell_type": "markdown",
      "id": "176da6b7",
      "metadata": {
        "id": "176da6b7"
      },
      "source": [
        "# 5 Math 021022 Programming Assignments"
      ]
    },
    {
      "cell_type": "markdown",
      "id": "af6b266d",
      "metadata": {
        "id": "af6b266d"
      },
      "source": [
        "Welcome to your first programming assignment using Jupyter Notebooks! Jupyter Notebooks provide a way to practice Python coding while having instructions and text, all in the same file! Follow the instructions below to become familiar with the Jupyter Notebook environment.\n"
      ]
    },
    {
      "cell_type": "markdown",
      "id": "589ea4ec",
      "metadata": {
        "id": "589ea4ec"
      },
      "source": [
        "### Tuesday: Jupyter Notebook Tutorial"
      ]
    },
    {
      "cell_type": "markdown",
      "id": "c7c26d3c",
      "metadata": {
        "id": "c7c26d3c"
      },
      "source": [
        "A single tutorial will not be able to cover everything there is to know about the Jupyter Notebook, but we will cover the basics. Any other special things that we'll need will come later with future tutorials. "
      ]
    },
    {
      "cell_type": "markdown",
      "id": "0f95961a",
      "metadata": {
        "id": "0f95961a"
      },
      "source": [
        "##### Task 1: Adding a new cell for code and markdown"
      ]
    },
    {
      "cell_type": "markdown",
      "id": "8d76e0f2",
      "metadata": {
        "id": "8d76e0f2"
      },
      "source": [
        "Each of the boxes you see in the Jupyter Notebook are called \"cells.\" Cells take on two main forms: Code and Text/Markdown. \n",
        "\n",
        "Your first task is to duplicate the two cells below (one code and one text). On the top left, there is a plus sign that you can use to add a new cell. When you click on the new cell, there is a dropdown menu on the top that says either Code or Text. You may choose either option. \n",
        "\n",
        "If you click on a cell, on the top right, there is a menu with a few options. The up arrow moves the cell up, the down arrow moves the cell down, and the trash can deletes the cell.\n",
        "\n",
        "To run a cell, you can either click on the play/run button at the top or hit command+enter (MACOs) or control+enter (Windows). "
      ]
    },
    {
      "cell_type": "code",
      "execution_count": null,
      "id": "c3d1c1a7",
      "metadata": {
        "colab": {
          "base_uri": "https://localhost:8080/"
        },
        "id": "c3d1c1a7",
        "outputId": "b24b31a5-35ce-4f67-fc94-205ce181cf69"
      },
      "outputs": [
        {
          "output_type": "stream",
          "name": "stdout",
          "text": [
            "Hello World\n"
          ]
        }
      ],
      "source": [
        "# This is a code cell. First, click on me. Then, click on the plus sign to add a new cell below. Finally, copy and paste the print statement below. \n",
        "print(\"Hello World\")"
      ]
    },
    {
      "cell_type": "code",
      "source": [
        "print(\"This is a code cell\")"
      ],
      "metadata": {
        "colab": {
          "base_uri": "https://localhost:8080/"
        },
        "id": "EC2eyzSSXLbY",
        "outputId": "d2239f55-9867-468d-bfd7-551a4beaaf7b"
      },
      "id": "EC2eyzSSXLbY",
      "execution_count": null,
      "outputs": [
        {
          "output_type": "stream",
          "name": "stdout",
          "text": [
            "This is a code cell\n"
          ]
        }
      ]
    },
    {
      "cell_type": "markdown",
      "id": "e23ef123",
      "metadata": {
        "id": "e23ef123"
      },
      "source": [
        "This is a markdown cell. You may have to double-click my text to access the contents of this cell. Click on the plus sign to add a new cell, then copy and paste the text below.\n",
        "\n",
        "Hello World"
      ]
    },
    {
      "cell_type": "markdown",
      "source": [
        "This is a text cell"
      ],
      "metadata": {
        "id": "zAZxGKq9XRuL"
      },
      "id": "zAZxGKq9XRuL"
    },
    {
      "cell_type": "markdown",
      "id": "ccedd6b8",
      "metadata": {
        "id": "ccedd6b8"
      },
      "source": [
        "##### Task 2: Installing and Loading Packages"
      ]
    },
    {
      "cell_type": "markdown",
      "id": "1eea81ed",
      "metadata": {
        "id": "1eea81ed"
      },
      "source": [
        "Congratulations on creating your new cells! The next step is to install the necessary packages/libraries that we will be using quite frequently for homework assignments. Packages/libraries are basically a lot of code that someone else has developed so that we can focus on the good stuff (instead of having to learn about all the technical parts behind compilers and modules). \n",
        "\n",
        "We will be using numpy and matplotlib as our two primary packages. NumPy is useful when we want to perform mathematical operations or work with arrays (lists of numbers). MatPlotLib is useful for visualizing our results. "
      ]
    },
    {
      "cell_type": "code",
      "execution_count": null,
      "id": "7afb2b17",
      "metadata": {
        "id": "7afb2b17"
      },
      "outputs": [],
      "source": [
        "# Run the code below to see if the packages can be loaded. If not, refer to the link below to see if you can install these packages. \n",
        "\n",
        "# Load in libraries\n",
        "import numpy as np\n",
        "import matplotlib.pyplot as plt"
      ]
    },
    {
      "cell_type": "markdown",
      "id": "da1943aa",
      "metadata": {
        "id": "da1943aa"
      },
      "source": [
        "##### Task 3: Trying out packages"
      ]
    },
    {
      "cell_type": "markdown",
      "id": "5fc042c6",
      "metadata": {
        "id": "5fc042c6"
      },
      "source": [
        "Once you have your packages installed, you are now ready to take on programming questions! But before you do your programming homework, let's first play around with some of numpy and matplotlib's features. \n",
        "\n",
        "One thing you may have noticed is that numpy is loaded as \"np\" and matplotlib.pyplot is loaded as \"plt.\" These are common abbreviations we use in code to make the code easier to read. If you need help with anything in numpy or matplotlib, you will see these abbreviations! "
      ]
    },
    {
      "cell_type": "markdown",
      "id": "b39c411f",
      "metadata": {
        "id": "b39c411f"
      },
      "source": [
        "Let's first perform some basic arithmetic. Run the code below to generate a array/list of numbers for the variable x, followed by multiplying each entry in x by 3. "
      ]
    },
    {
      "cell_type": "code",
      "execution_count": null,
      "id": "833a2bab",
      "metadata": {
        "id": "833a2bab",
        "colab": {
          "base_uri": "https://localhost:8080/"
        },
        "outputId": "d9b19c85-84c6-47a2-aacf-2abea4486cf4"
      },
      "outputs": [
        {
          "output_type": "stream",
          "name": "stdout",
          "text": [
            "x is [1 2 3 4] .\n",
            "y is [ 3  6  9 12] . Notice how each entry in y is three times each entry in x.\n"
          ]
        }
      ],
      "source": [
        "# Array/List example\n",
        "x = np.array([1, 2, 3, 4])\n",
        "print(\"x is\", x, \".\")\n",
        "y = x * 3\n",
        "print(\"y is\", y, \". Notice how each entry in y is three times each entry in x.\")\n"
      ]
    },
    {
      "cell_type": "markdown",
      "id": "2c5d6563",
      "metadata": {
        "id": "2c5d6563"
      },
      "source": [
        "Your turn! Generate an array of numbers for the variable a. a should have the array [1, 3, 5, 7]. Then, subtract 10 from each entry in a to get a new array. Assign this new array to the variable b."
      ]
    },
    {
      "cell_type": "code",
      "execution_count": null,
      "id": "5890edfb",
      "metadata": {
        "id": "5890edfb",
        "colab": {
          "base_uri": "https://localhost:8080/"
        },
        "outputId": "2a7285cd-f077-4ba3-dcb8-5ad3b2567168"
      },
      "outputs": [
        {
          "output_type": "stream",
          "name": "stdout",
          "text": [
            "[1 3 5 7]\n",
            "[-9 -7 -5 -3]\n"
          ]
        }
      ],
      "source": [
        "# Insert your code here\n",
        "a = np.array([1, 3, 5, 7])\n",
        "print(a)\n",
        "b = a - 10\n",
        "print(b)"
      ]
    },
    {
      "cell_type": "markdown",
      "id": "9b8e5aac",
      "metadata": {
        "id": "9b8e5aac"
      },
      "source": [
        "Next, let's try making a plot. To make a two-dimensional plot, we will need coordinates in the form (x, y) or (a, b). Let's first plot random numbers to get a plot. \n",
        "\n",
        "A good programmer knows how to look up documentation for commands they need a refresher on. In fact, simply Googling a coding question is a great skill to have! If you do not know what a command does, you can always Google it. "
      ]
    },
    {
      "cell_type": "code",
      "execution_count": null,
      "id": "eeae503e",
      "metadata": {
        "id": "eeae503e",
        "colab": {
          "base_uri": "https://localhost:8080/"
        },
        "outputId": "8f206a21-11a3-49f2-d12b-002392c7e326"
      },
      "outputs": [
        {
          "output_type": "execute_result",
          "data": {
            "text/plain": [
              "Text(0.5, 0, 'randomx values')"
            ]
          },
          "metadata": {},
          "execution_count": 27
        },
        {
          "output_type": "display_data",
          "data": {
            "image/png": "[encoded data removed]",
            "text/plain": [
              "<Figure size 432x288 with 1 Axes>"
            ]
          },
          "metadata": {
            "needs_background": "light"
          }
        }
      ],
      "source": [
        "# Plotting example\n",
        "# Note that the size of randomx and randomy are identical. The sizes of the arrays plotted must be the same. \n",
        "randomx = np.random.randint(10, size=10) # Generates a list of 10 random numbers from 0-9\n",
        "randomy = np.random.randint(20, size=10) # Generates a list of 10 random numbers from 0-19\n",
        "\n",
        "# https://numpy.org/doc/stable/reference/random/generated/numpy.random.randint.html\n",
        "\n",
        "plt.plot(randomx, randomy) # Plot randomx and randomy\n",
        "plt.ylabel(\"randomy values\") # Add a label to the verical axis\n",
        "plt.xlabel(\"randomx values\") # Add a label to the horizontal axis\n",
        "\n",
        "# https://matplotlib.org/stable/tutorials/introductory/pyplot.html\n"
      ]
    },
    {
      "cell_type": "markdown",
      "id": "3148df48",
      "metadata": {
        "id": "3148df48"
      },
      "source": [
        "Because the code above uses random numbers, then the plots look different every time and really strange. Then again, the numbers are random, so that is expected. \n",
        "\n",
        "Let's plot the previous arrays x and y by running the code below. If you get the error \"name 'x' is not defined\" or \"name 'y' is not defined,\" then you may have to run some code above to define x and y. For Jupyter Notebooks, it is important that you are able to run your code from top to bottom without having to go back. "
      ]
    },
    {
      "cell_type": "code",
      "source": [
        "print(x)\n",
        "print(y)"
      ],
      "metadata": {
        "colab": {
          "base_uri": "https://localhost:8080/"
        },
        "id": "Bd1Wzp55Z3Ek",
        "outputId": "5e94eaa9-9093-4708-95db-7c828e45351b"
      },
      "id": "Bd1Wzp55Z3Ek",
      "execution_count": null,
      "outputs": [
        {
          "output_type": "stream",
          "name": "stdout",
          "text": [
            "[1 2 3 4]\n",
            "[ 3  6  9 12]\n"
          ]
        }
      ]
    },
    {
      "cell_type": "code",
      "execution_count": null,
      "id": "65df4b5b",
      "metadata": {
        "id": "65df4b5b",
        "colab": {
          "base_uri": "https://localhost:8080/"
        },
        "outputId": "2396aafa-76c3-4a64-e519-22db05c2cb0a"
      },
      "outputs": [
        {
          "output_type": "execute_result",
          "data": {
            "text/plain": [
              "Text(0.5, 0, 'x values')"
            ]
          },
          "metadata": {},
          "execution_count": 29
        },
        {
          "output_type": "display_data",
          "data": {
            "image/png": "[encoded data removed]",
            "text/plain": [
              "<Figure size 432x288 with 1 Axes>"
            ]
          },
          "metadata": {
            "needs_background": "light"
          }
        }
      ],
      "source": [
        "plt.plot(x, y) # Plot x and y\n",
        "plt.ylabel(\"y values\")\n",
        "plt.xlabel(\"x values\")"
      ]
    },
    {
      "cell_type": "markdown",
      "id": "cd5d91f5",
      "metadata": {
        "id": "cd5d91f5"
      },
      "source": [
        "Your turn! Make a similar plot using your arrays a and b. "
      ]
    },
    {
      "cell_type": "code",
      "execution_count": null,
      "id": "f0dac87b",
      "metadata": {
        "id": "f0dac87b",
        "colab": {
          "base_uri": "https://localhost:8080/"
        },
        "outputId": "e08f8a7e-b61b-4138-c5de-2ef7218ba3df"
      },
      "outputs": [
        {
          "output_type": "execute_result",
          "data": {
            "text/plain": [
              "Text(0.5, 0, 'a values')"
            ]
          },
          "metadata": {},
          "execution_count": 30
        },
        {
          "output_type": "display_data",
          "data": {
            "image/png": "[encoded data removed]",
            "text/plain": [
              "<Figure size 432x288 with 1 Axes>"
            ]
          },
          "metadata": {
            "needs_background": "light"
          }
        }
      ],
      "source": [
        "# Insert your code here\n",
        "plt.plot(a, b)\n",
        "plt.ylabel(\"b values\")\n",
        "plt.xlabel(\"a values\")"
      ]
    },
    {
      "cell_type": "markdown",
      "id": "50aeb3e0",
      "metadata": {
        "id": "50aeb3e0"
      },
      "source": [
        "That's it for the tutorial! There is a lot more to learn about the Jupyter Notebook and various Python packages. We will explore them as we go. "
      ]
    },
    {
      "cell_type": "markdown",
      "id": "bc0b0866",
      "metadata": {
        "id": "bc0b0866"
      },
      "source": [
        "### Wednesday: Determining the areas of rectangles and triangles"
      ]
    },
    {
      "cell_type": "markdown",
      "id": "9ed20186",
      "metadata": {
        "id": "9ed20186"
      },
      "source": [
        "This is the start of our first official programming assignment! There will be two tasks for this assignment. \n",
        "\n",
        "##### Task 1: Determine the area of rectangles with various lengths and constant widths. Plot your results. Use the lengths and width given below."
      ]
    },
    {
      "cell_type": "markdown",
      "id": "caf99bfc",
      "metadata": {
        "id": "caf99bfc"
      },
      "source": [
        "The width of the rectangle will be 60 inches. The lengths of the rectangle will be 1 foot, 3 feet, 7 feet, and 20 feet. Solve for the areas in terms of square feet. "
      ]
    },
    {
      "cell_type": "code",
      "execution_count": null,
      "id": "6ffe0a3b",
      "metadata": {
        "id": "6ffe0a3b",
        "colab": {
          "base_uri": "https://localhost:8080/",
          "height": 296
        },
        "outputId": "99484936-aaa1-46aa-ae67-218934c123ad"
      },
      "outputs": [
        {
          "output_type": "execute_result",
          "data": {
            "text/plain": [
              "Text(0, 0.5, 'Area (ft^2)')"
            ]
          },
          "metadata": {},
          "execution_count": 20
        },
        {
          "output_type": "display_data",
          "data": {
            "image/png": "[encoded data removed]",
            "text/plain": [
              "<Figure size 432x288 with 1 Axes>"
            ]
          },
          "metadata": {
            "needs_background": "light"
          }
        }
      ],
      "source": [
        "# Length\n",
        "L = np.array([1, 3, 7, 20]) # ft\n",
        "\n",
        "# Width\n",
        "W = 60 # in\n",
        "W = W / 12 # ft\n",
        "\n",
        "# Area\n",
        "A = np.multiply(L, W) # ft^2\n",
        "\n",
        "# Plot\n",
        "plt.plot(L, A)\n",
        "plt.xlabel(\"Length (ft)\")\n",
        "plt.ylabel(\"Area (ft^2)\")"
      ]
    },
    {
      "cell_type": "markdown",
      "id": "0f683edb",
      "metadata": {
        "tags": [
          "hide-input"
        ],
        "id": "0f683edb"
      },
      "source": [
        "##### Task 2: Determine the area of triangles with various bases and constant height. Plot your results. Use the bases and height given below."
      ]
    },
    {
      "cell_type": "markdown",
      "id": "5272d39a",
      "metadata": {
        "id": "5272d39a"
      },
      "source": [
        "The height of the triangle will be 30 cm. The bases of the triangle will be 100 mm, 2 m, and 0.06 km. Solve for the area in terms of square cm. \n",
        "\n",
        "Hint: The results should follow a straight line passing through the point (200, 3000). "
      ]
    },
    {
      "cell_type": "code",
      "execution_count": null,
      "id": "f77ed8c9",
      "metadata": {
        "id": "f77ed8c9",
        "colab": {
          "base_uri": "https://localhost:8080/",
          "height": 296
        },
        "outputId": "361661fa-66d1-4af5-a5c0-bf3595db9aa9"
      },
      "outputs": [
        {
          "output_type": "execute_result",
          "data": {
            "text/plain": [
              "Text(0, 0.5, 'Area (cm^2)')"
            ]
          },
          "metadata": {},
          "execution_count": 21
        },
        {
          "output_type": "display_data",
          "data": {
            "image/png": "[encoded data removed]",
            "text/plain": [
              "<Figure size 432x288 with 1 Axes>"
            ]
          },
          "metadata": {
            "needs_background": "light"
          }
        }
      ],
      "source": [
        "# Height\n",
        "H = 30 # cm\n",
        "\n",
        "# Base\n",
        "B = np.array([10, 200, 6000]) # cm\n",
        "\n",
        "# Area\n",
        "A = (1/2)*np.multiply(B, H) # A = (1/2)*B*H, cm^2\n",
        "\n",
        "# Plot\n",
        "plt.plot(B, A)\n",
        "plt.xlabel(\"Base (cm)\")\n",
        "plt.ylabel(\"Area (cm^2)\")"
      ]
    }
  ],
  "metadata": {
    "kernelspec": {
      "display_name": "Python 3",
      "language": "python",
      "name": "python3"
    },
    "language_info": {
      "codemirror_mode": {
        "name": "ipython",
        "version": 3
      },
      "file_extension": ".py",
      "mimetype": "text/x-python",
      "name": "python",
      "nbconvert_exporter": "python",
      "pygments_lexer": "ipython3",
      "version": "3.8.5"
    },
    "colab": {
      "name": "5_Math_021022_HW_Solutions.ipynb",
      "provenance": [],
      "collapsed_sections": [
        "589ea4ec",
        "0f95961a",
        "ccedd6b8",
        "da1943aa"
      ],
      "include_colab_link": true
    }
  },
  "nbformat": 4,
  "nbformat_minor": 5
}
