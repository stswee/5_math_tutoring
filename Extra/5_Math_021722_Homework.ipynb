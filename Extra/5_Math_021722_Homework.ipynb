{
  "nbformat": 4,
  "nbformat_minor": 0,
  "metadata": {
    "colab": {
      "name": "5_Math_021722_Homework.ipynb",
      "provenance": [],
      "collapsed_sections": [
        "5KDcUsNoMoS4"
      ],
      "toc_visible": true,
      "authorship_tag": "ABX9TyOKaXXS18CILonnOm02nMAD",
      "include_colab_link": true
    },
    "kernelspec": {
      "name": "python3",
      "display_name": "Python 3"
    },
    "language_info": {
      "name": "python"
    }
  },
  "cells": [
    {
      "cell_type": "markdown",
      "metadata": {
        "id": "view-in-github",
        "colab_type": "text"
      },
      "source": [
        "<a href=\"https://colab.research.google.com/github/stswee/5_math_tutoring/blob/main/5_Math_021722_Homework.ipynb\" target=\"_parent\"><img src=\"https://colab.research.google.com/assets/colab-badge.svg\" alt=\"Open In Colab\"/></a>"
      ]
    },
    {
      "cell_type": "markdown",
      "source": [
        "### 5 Math 02/17/22 Homework"
      ],
      "metadata": {
        "id": "fk53qGJcKwHm"
      }
    },
    {
      "cell_type": "markdown",
      "source": [
        "The goal of this programming assignment is to practice working with functions and plotting."
      ],
      "metadata": {
        "id": "qUHPZCmfKz3s"
      }
    },
    {
      "cell_type": "markdown",
      "source": [
        "### Task 1: Functions"
      ],
      "metadata": {
        "id": "y_4i2AmRLI8o"
      }
    },
    {
      "cell_type": "markdown",
      "source": [
        "The first thing that needs to be done at the beginning of any program is to load in the necessary libraries. Like before, we will utilize numpy and matplotlib for creating arrays and plotting respectively."
      ],
      "metadata": {
        "id": "LaCx7SodLQ2H"
      }
    },
    {
      "cell_type": "code",
      "execution_count": null,
      "metadata": {
        "id": "BUwL4bEcKosO"
      },
      "outputs": [],
      "source": [
        "# Import libraries\n",
        "import numpy as np\n",
        "import matplotlib.pyplot as plt"
      ]
    },
    {
      "cell_type": "markdown",
      "source": [
        "Listed in the code below are some values for x. Write a program that gives the values for y using the functions below (Hint: There are similar examples in the class notes)"
      ],
      "metadata": {
        "id": "7FjDZpDeLhd3"
      }
    },
    {
      "cell_type": "code",
      "source": [
        "# Function 1: f(x) = y = 10x - 23\n",
        "x = np.array([5, 16, -20, 19])\n",
        "print(x)\n",
        "y = # Insert code here\n",
        "print(y)"
      ],
      "metadata": {
        "id": "ZwasH_2rL7x-"
      },
      "execution_count": null,
      "outputs": []
    },
    {
      "cell_type": "code",
      "source": [
        "# Function 2: f(x) = y = -23x + 2x + 10\n",
        "x = np.array([2, 8, 10, -3, 5])\n",
        "print(x)\n",
        "y = # Insert code here\n",
        "print(y)"
      ],
      "metadata": {
        "id": "B9GPMfLlMKRf"
      },
      "execution_count": null,
      "outputs": []
    },
    {
      "cell_type": "code",
      "source": [
        "# Function 3: f(x) = y = 0.5x - 9.3x + 0.29\n",
        "x = np.array([0, 1, 23, 19])\n",
        "print(x)\n",
        "y = # Insert code here\n",
        "print(y)"
      ],
      "metadata": {
        "id": "90IhPmAxMTKL"
      },
      "execution_count": null,
      "outputs": []
    },
    {
      "cell_type": "markdown",
      "source": [
        "##### Expected Outputs (to double check your answer)"
      ],
      "metadata": {
        "id": "5KDcUsNoMoS4"
      }
    },
    {
      "cell_type": "markdown",
      "source": [
        "Function 1: [27 137 -223 167] \n",
        "\n",
        "Function 2: [-32 -158 -200 73 -95]\n",
        "\n",
        "Function 3: [0.29 -8.51 -202.11 -166.91]"
      ],
      "metadata": {
        "id": "1vP6Q0FaMrzS"
      }
    },
    {
      "cell_type": "markdown",
      "source": [
        "### Task 2: Using definitions"
      ],
      "metadata": {
        "id": "ueSUWM6cNpKR"
      }
    },
    {
      "cell_type": "markdown",
      "source": [
        "We will now use definitions to code functions. That way, we can be more flexible with our input and other users can use our function! Let's go over the anatomy of a definition."
      ],
      "metadata": {
        "id": "WiOvgOM-NzhJ"
      }
    },
    {
      "cell_type": "code",
      "source": [
        "def helloworld():\n",
        "  print(\"Hello World\")\n",
        "\n",
        "helloworld()"
      ],
      "metadata": {
        "colab": {
          "base_uri": "https://localhost:8080/"
        },
        "id": "Q0sl1ZpJNy54",
        "outputId": "c54623b0-07c3-4de0-af50-4dfe264a91e7"
      },
      "execution_count": null,
      "outputs": [
        {
          "output_type": "stream",
          "name": "stdout",
          "text": [
            "Hello World\n"
          ]
        }
      ]
    },
    {
      "cell_type": "markdown",
      "source": [
        "def: defines the function\n",
        "\n",
        "helloworld() in yellow: the function name\n",
        "\n",
        "print(\"Hello World\"): write the words \"hello world\" in the output\n",
        "\n",
        "helloworld() in white: calls the function"
      ],
      "metadata": {
        "id": "Np9vDVk9OMwd"
      }
    },
    {
      "cell_type": "markdown",
      "source": [
        "We will go over functions more in depth next class, but for now, we can follow the general structure of the function above. \n",
        "\n",
        "Below is an example function for the function f(x) = y = 3x + 10"
      ],
      "metadata": {
        "id": "xo7wApu7OfQp"
      }
    },
    {
      "cell_type": "code",
      "source": [
        "def function0(x):\n",
        "  return 3*x + 10\n",
        "\n",
        "function0(np.array([0, 1, 2, 3]))"
      ],
      "metadata": {
        "colab": {
          "base_uri": "https://localhost:8080/"
        },
        "id": "M3K9TREQOyPj",
        "outputId": "c8f7f0a0-3ef8-4248-8842-84bc69c89226"
      },
      "execution_count": null,
      "outputs": [
        {
          "output_type": "execute_result",
          "data": {
            "text/plain": [
              "array([10, 13, 16, 19])"
            ]
          },
          "metadata": {},
          "execution_count": 7
        }
      ]
    },
    {
      "cell_type": "markdown",
      "source": [
        "You may notice that there is a blue \"x\" in function0. This blue x represents the argument, or the input of our function. That input can be a single number or an array/list. \n",
        "\n",
        "In addition, \"return\" is the same as the output of the function. In this case, function0 returns 3x+10. "
      ],
      "metadata": {
        "id": "OIvwjyE5O7yM"
      }
    },
    {
      "cell_type": "markdown",
      "source": [
        "Following the example function above, redo task 1, but with defined functions instead. The outputs should be the same. Some starter code is given to you for the first function."
      ],
      "metadata": {
        "id": "FQqFB35gPVSb"
      }
    },
    {
      "cell_type": "code",
      "source": [
        "# Function 1: f(x) = y = 10x - 23\n",
        "def function1(x):\n",
        "  return # Insert code here\n",
        "\n",
        "function1(np.array([5, 16, -20, 19]))"
      ],
      "metadata": {
        "id": "PlLVjUsHPh4F"
      },
      "execution_count": null,
      "outputs": []
    },
    {
      "cell_type": "code",
      "source": [
        "# Insert code here for Function 2"
      ],
      "metadata": {
        "id": "cZr0uI6fPtPo"
      },
      "execution_count": null,
      "outputs": []
    },
    {
      "cell_type": "code",
      "source": [
        "# Insert code here for Function 3"
      ],
      "metadata": {
        "id": "qyCzrv1FPvSA"
      },
      "execution_count": null,
      "outputs": []
    },
    {
      "cell_type": "markdown",
      "source": [
        "### Task 3: Plotting practice"
      ],
      "metadata": {
        "id": "outxNV5IP0k9"
      }
    },
    {
      "cell_type": "markdown",
      "source": [
        "The problem below is similar to what we have seen in class:"
      ],
      "metadata": {
        "id": "25jcRVdIQOh_"
      }
    },
    {
      "cell_type": "markdown",
      "source": [
        "Task: Build a function that converts the following array (in feet) to meters. Plot the function and its points."
      ],
      "metadata": {
        "id": "Ujm12_izQh4q"
      }
    },
    {
      "cell_type": "code",
      "source": [
        "measurements = np.array([10, 29, 18, 29.3, 49]) # feet"
      ],
      "metadata": {
        "id": "Z-GcH3q0QN2n"
      },
      "execution_count": null,
      "outputs": []
    },
    {
      "cell_type": "markdown",
      "source": [
        "##### Expected Plot (to double check your answer)"
      ],
      "metadata": {
        "id": "9EgYMBfZQzjo"
      }
    },
    {
      "cell_type": "code",
      "source": [
        "#@title Expected Plot\n",
        "measurements = np.array([10, 29, 18, 29.3, 49]) # feet\n",
        "meters = measurements * 12 * 2.54 / 100\n",
        "plt.scatter(measurements, meters) # Plots points\n",
        "plt.plot(measurements, meters)\n",
        "plt.xlabel(\"Measurements (ft)\")\n",
        "plt.ylabel(\"Measurements (m)\")"
      ],
      "metadata": {
        "colab": {
          "base_uri": "https://localhost:8080/",
          "height": 296
        },
        "id": "UKw_2pRaQ2lQ",
        "outputId": "1e0f0bc5-e024-4959-8a94-41ef2d84e22c"
      },
      "execution_count": null,
      "outputs": [
        {
          "output_type": "execute_result",
          "data": {
            "text/plain": [
              "Text(0, 0.5, 'Measurements (m)')"
            ]
          },
          "metadata": {},
          "execution_count": 10
        },
        {
          "output_type": "display_data",
          "data": {
            "image/png": "[encoded data removed]",
            "text/plain": [
              "<Figure size 432x288 with 1 Axes>"
            ]
          },
          "metadata": {
            "needs_background": "light"
          }
        }
      ]
    }
  ]
}
